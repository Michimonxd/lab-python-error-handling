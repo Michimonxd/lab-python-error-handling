{
 "cells": [
  {
   "cell_type": "markdown",
   "id": "25d7736c-ba17-4aff-b6bb-66eba20fbf4e",
   "metadata": {},
   "source": [
    "# Lab | Error Handling"
   ]
  },
  {
   "cell_type": "markdown",
   "id": "bc99b386-7508-47a0-bcdb-d969deaf6c8b",
   "metadata": {},
   "source": [
    "## Exercise: Error Handling for Managing Customer Orders\n",
    "\n",
    "The implementation of your code for managing customer orders assumes that the user will always enter a valid input. \n",
    "\n",
    "For example, we could modify the `initialize_inventory` function to include error handling.\n",
    "   - If the user enters an invalid quantity (e.g., a negative value or a non-numeric value), display an error message and ask them to re-enter the quantity for that product.\n",
    "   - Use a try-except block to handle the error and continue prompting the user until a valid quantity is entered.\n",
    "\n",
    "```python\n",
    "# Step 1: Define the function for initializing the inventory with error handling\n",
    "def initialize_inventory(products):\n",
    "    inventory = {}\n",
    "    for product in products:\n",
    "        valid_quantity = False\n",
    "        while not valid_quantity:\n",
    "            try:\n",
    "                quantity = int(input(f\"Enter the quantity of {product}s available: \"))\n",
    "                if quantity < 0:\n",
    "                    raise ValueError(\"Invalid quantity! Please enter a non-negative value.\")\n",
    "                valid_quantity = True\n",
    "            except ValueError as error:\n",
    "                print(f\"Error: {error}\")\n",
    "        inventory[product] = quantity\n",
    "    return inventory\n",
    "\n",
    "# Or, in another way:\n",
    "\n",
    "def initialize_inventory(products):\n",
    "    inventory = {}\n",
    "    for product in products:\n",
    "        valid_input = False\n",
    "        while not valid_input:\n",
    "            try:\n",
    "                quantity = int(input(f\"Enter the quantity of {product}s available: \"))\n",
    "                if quantity >= 0:\n",
    "                    inventory[product] = quantity\n",
    "                    valid_input = True\n",
    "                else:\n",
    "                    print(\"Quantity cannot be negative. Please enter a valid quantity.\")\n",
    "            except ValueError:\n",
    "                print(\"Invalid input. Please enter a valid quantity.\")\n",
    "    return inventory\n",
    "```\n",
    "\n",
    "Let's enhance your code by implementing error handling to handle invalid inputs.\n",
    "\n",
    "Follow the steps below to complete the exercise:\n",
    "\n",
    "2. Modify the `calculate_total_price` function to include error handling.\n",
    "   - If the user enters an invalid price (e.g., a negative value or a non-numeric value), display an error message and ask them to re-enter the price for that product.\n",
    "   - Use a try-except block to handle the error and continue prompting the user until a valid price is entered.\n",
    "\n",
    "3. Modify the `get_customer_orders` function to include error handling.\n",
    "   - If the user enters an invalid number of orders (e.g., a negative value or a non-numeric value), display an error message and ask them to re-enter the number of orders.\n",
    "   - If the user enters an invalid product name (e.g., a product name that is not in the inventory), or that doesn't have stock available, display an error message and ask them to re-enter the product name. *Hint: you will need to pass inventory as a parameter*\n",
    "   - Use a try-except block to handle the error and continue prompting the user until a valid product name is entered.\n",
    "\n",
    "4. Test your code by running the program and deliberately entering invalid quantities and product names. Make sure the error handling mechanism works as expected.\n"
   ]
  },
  {
   "cell_type": "code",
   "execution_count": 17,
   "id": "647e38ad-1ee7-467e-9ed5-1d55b41b3889",
   "metadata": {},
   "outputs": [
    {
     "name": "stdin",
     "output_type": "stream",
     "text": [
      "Enter quantity for t-shirt:  2\n",
      "Enter quantity for mug:  3\n",
      "Enter quantity for hat:  4\n",
      "Enter quantity for book:  5\n",
      "Enter quantity for keychain:  6\n",
      "Enter the number of customer orders:  5\n",
      "Enter a product name (or type 'done' to finish):  2\n"
     ]
    },
    {
     "name": "stdout",
     "output_type": "stream",
     "text": [
      "Invalid product name or out of stock, please try again.\n"
     ]
    },
    {
     "name": "stdin",
     "output_type": "stream",
     "text": [
      "Enter a product name (or type 'done' to finish):  booook\n"
     ]
    },
    {
     "name": "stdout",
     "output_type": "stream",
     "text": [
      "Invalid product name or out of stock, please try again.\n"
     ]
    },
    {
     "name": "stdin",
     "output_type": "stream",
     "text": [
      "Enter a product name (or type 'done' to finish):  book\n",
      "Enter a product name (or type 'done' to finish):  mug\n",
      "Enter a product name (or type 'done' to finish):  hat\n",
      "Enter a product name (or type 'done' to finish):  book\n",
      "Enter a product name (or type 'done' to finish):  book\n"
     ]
    },
    {
     "name": "stdout",
     "output_type": "stream",
     "text": [
      "Order Statistics:\n",
      "Total Unique Products Ordered: 3\n",
      "Percentage of Products Ordered: 60.00%\n"
     ]
    },
    {
     "name": "stdin",
     "output_type": "stream",
     "text": [
      "Enter price for book:  20\n",
      "Enter price for hat:  30\n",
      "Enter price for mug:  d\n"
     ]
    },
    {
     "name": "stdout",
     "output_type": "stream",
     "text": [
      "Enter a numeric value for the price.\n"
     ]
    },
    {
     "name": "stdin",
     "output_type": "stream",
     "text": [
      "Enter price for mug:  3000\n"
     ]
    },
    {
     "name": "stdout",
     "output_type": "stream",
     "text": [
      "The total price of your order is: $3050.00\n",
      "Updated Inventory:\n",
      "t-shirt: 2\n",
      "mug: 2\n",
      "hat: 3\n",
      "book: 4\n",
      "keychain: 6\n"
     ]
    }
   ],
   "source": [
    "def initialize_inventory(products):\n",
    "    # Initialize inventory by prompting for quantities\n",
    "    inventory = {product: int(input(f\"Enter quantity for {product}: \")) for product in products}\n",
    "    return inventory\n",
    "\n",
    "products = [\"t-shirt\", \"mug\", \"hat\", \"book\", \"keychain\"]\n",
    "\n",
    "def get_customer_orders(inventory):\n",
    "    customer_orders = set()\n",
    "    \n",
    "    while True:  # prompt until a valid number of orders is entered\n",
    "        try:\n",
    "            num_orders = int(input(\"Enter the number of customer orders: \"))\n",
    "            if num_orders < 1:\n",
    "                print(\"Please enter a positive number of orders.\")\n",
    "                continue\n",
    "            break  # exit loop if the number valid\n",
    "        except ValueError:\n",
    "            print(\"Please enter a valid number.\")\n",
    "        except TypeError:\n",
    "            print(\"Please enter a valid number\")\n",
    "\n",
    "    for _ in range(num_orders):\n",
    "        while True:  # Keep prompting until a valid product name is entered\n",
    "            try:\n",
    "                product = input(\"Enter a product name (or type 'done' to finish): \").lower()\n",
    "                if product == 'done':\n",
    "                    break\n",
    "                elif product in inventory and inventory[product] > 0:\n",
    "                    customer_orders.add(product)\n",
    "                    break  # Exit loop if the product is valid and in stock\n",
    "                else:\n",
    "                    print(\"Invalid product name or out of stock, please try again.\")\n",
    "            except ValueError:\n",
    "                print(\"Please enter a valid number.\")\n",
    "            except TypeError:\n",
    "                print(\"Please enter a valid number\")\n",
    "\n",
    "    return customer_orders\n",
    "\n",
    "\n",
    "def calculate_order_statistics(customer_orders, products):\n",
    "    total = len(customer_orders)  # Total unique products ordered\n",
    "    percentage = (total / len(products)) * 100 if products else 0  # Percentage of unique products ordered\n",
    "    return total, percentage\n",
    "\n",
    "def print_order_statistics(order_statistics):\n",
    "    total_products_ordered, percentage_ordered = order_statistics  # Unpack the tuple\n",
    "    print(\"Order Statistics:\")\n",
    "    print(f\"Total Unique Products Ordered: {total_products_ordered}\")\n",
    "    print(f\"Percentage of Products Ordered: {percentage_ordered:.2f}%\")\n",
    "\n",
    "\n",
    "def calculate_price(customer_orders):\n",
    "    prices = {}\n",
    "    \n",
    "    for product in customer_orders:\n",
    "        while True:  # until a valid price is entered\n",
    "            try:\n",
    "                price = float(input(f\"Enter price for {product}: \"))\n",
    "                if price < 0:\n",
    "                    print(\"Price cannot be negative. Please enter a valid price.\")\n",
    "                    continue  # continue loop to ask for the price again\n",
    "                prices[product] = price\n",
    "                break  # Exit loop if the price is valid\n",
    "            except ValueError:\n",
    "                print(\"Enter a numeric value for the price.\")\n",
    "    \n",
    "    total_price = sum(prices.values())\n",
    "    return total_price\n",
    "\n",
    "\n",
    "def update_inventory(customer_orders, inventory):\n",
    "    # reduce the quantity of each ordered product\n",
    "    for product in customer_orders:\n",
    "        if product in inventory and inventory[product] > 0:\n",
    "            inventory[product] -= 1  # Decrease quantity by 1\n",
    "\n",
    "    # new inventory without products with zero quantity\n",
    "    updated_inventory = {product: quantity for product, quantity in inventory.items() if quantity > 0}\n",
    "    return updated_inventory\n",
    "\n",
    "def print_updated_inventory(inventory):\n",
    "    print(\"Updated Inventory:\")\n",
    "    for product, quantity in inventory.items():\n",
    "        print(f\"{product}: {quantity}\")\n",
    "\n",
    "    \n",
    "inventory = initialize_inventory(products)  # Initialize inventory\n",
    "customer_orders = get_customer_orders(inventory)  # Get customer orders\n",
    "order_statistics = calculate_order_statistics(customer_orders, products)  # Calculate order statistics\n",
    "print_order_statistics(order_statistics)  # Print order statistics\n",
    "final_price = calculate_price(customer_orders)  # Calculate total price\n",
    "print(f\"The total price of your order is: ${final_price:.2f}\")\n",
    "updated_inventory = update_inventory(customer_orders, inventory)  # Update inventory\n",
    "print_updated_inventory(updated_inventory)  # Print updated inventory\n"
   ]
  },
  {
   "cell_type": "code",
   "execution_count": null,
   "id": "b606bfd1-e0b4-430b-b266-47d8e0624cf7",
   "metadata": {},
   "outputs": [],
   "source": []
  }
 ],
 "metadata": {
  "kernelspec": {
   "display_name": "Python 3 (ipykernel)",
   "language": "python",
   "name": "python3"
  },
  "language_info": {
   "codemirror_mode": {
    "name": "ipython",
    "version": 3
   },
   "file_extension": ".py",
   "mimetype": "text/x-python",
   "name": "python",
   "nbconvert_exporter": "python",
   "pygments_lexer": "ipython3",
   "version": "3.12.4"
  }
 },
 "nbformat": 4,
 "nbformat_minor": 5
}
